{
 "cells": [
  {
   "cell_type": "code",
   "execution_count": 2,
   "id": "246d4323-f41e-4fb2-8a46-8d6b7cb6f67f",
   "metadata": {},
   "outputs": [],
   "source": [
    "#imports\n",
    "import mwparserfromhell\n",
    "import pywikibot\n",
    "import tqdm\n"
   ]
  },
  {
   "cell_type": "code",
   "execution_count": 3,
   "id": "9fcfef82-98d9-47a7-aac5-1c81cbebc053",
   "metadata": {},
   "outputs": [
    {
     "name": "stdout",
     "output_type": "stream",
     "text": [
      "Total links: 602\n"
     ]
    }
   ],
   "source": [
    "# extract list of cocktails from https://en.wikipedia.org/wiki/List_of_cocktails\n",
    "\n",
    "def get_cocktails():\n",
    "    e = pywikibot.Site('en','wikipedia')\n",
    "    p = pywikibot.Page(e, 'List of cocktails')            \n",
    "    wt = p.get()               \n",
    "    wc = mwparserfromhell.parse(wt)\n",
    "    c = [ x.title for x in wc.filter_wikilinks()]\n",
    "    return c\n",
    "\n",
    "cocktails = get_cocktails()\n",
    "\n",
    "print(f\"Total links: {len(cocktails)}\")"
   ]
  },
  {
   "cell_type": "code",
   "execution_count": 5,
   "id": "0fb86ec8-3196-4708-bcce-4789981b0d1e",
   "metadata": {},
   "outputs": [
    {
     "name": "stdout",
     "output_type": "stream",
     "text": [
      "drinkware for cocktail Orgasm (cocktail): old\n"
     ]
    }
   ],
   "source": [
    "def get_drinkware(cocktail):\n",
    "    e = pywikibot.Site('en','wikipedia')\n",
    "    p = pywikibot.Page(e, cocktail)            \n",
    "    try:\n",
    "        wt = p.get(get_redirect=True)               \n",
    "        wc = mwparserfromhell.parse(wt)\n",
    "    except Exception as e:\n",
    "        print(f\"Error fetching page {p}: {e}\")\n",
    "        #raise e\n",
    "        return None\n",
    "    \n",
    "    infb = None\n",
    "    \n",
    "    # find the infobox template\n",
    "    for t in wc.filter_templates():\n",
    "        if t.name.strip() == \"Infobox cocktail\":\n",
    "            infb = t\n",
    "            break\n",
    "    \n",
    "    if not infb:\n",
    "        return None\n",
    "    \n",
    "    # find the drinkware.\n",
    "    d = None\n",
    "    for param in infb.params:\n",
    "        n, v = param.name.strip(), param.value.strip()\n",
    "        if n == \"drinkware\":\n",
    "            d = v\n",
    "            break\n",
    "    #print(c, c.__class__, d, d.__class__)\n",
    "    return d\n",
    "\n",
    "c = \"Orgasm (cocktail)\"\n",
    "print(f\"drinkware for cocktail {c}: {get_drinkware(c)}\")\n"
   ]
  },
  {
   "cell_type": "code",
   "execution_count": 6,
   "id": "fb68d3ff-cbb2-46b6-8cd7-98ef57f00976",
   "metadata": {},
   "outputs": [
    {
     "name": "stderr",
     "output_type": "stream",
     "text": [
      " 80%|███████▉  | 479/602 [04:10<01:15,  1.63it/s]"
     ]
    },
    {
     "name": "stdout",
     "output_type": "stream",
     "text": [
      "Error fetching page [[en:Agave spirits]]: Page [[en:Agave spirits]] doesn't exist.\n"
     ]
    },
    {
     "name": "stderr",
     "output_type": "stream",
     "text": [
      " 81%|████████▏ | 490/602 [04:16<00:44,  2.51it/s]"
     ]
    },
    {
     "name": "stdout",
     "output_type": "stream",
     "text": [
      "Error fetching page [[en:Carrot top oil]]: Page [[en:Carrot top oil]] doesn't exist.\n"
     ]
    },
    {
     "name": "stderr",
     "output_type": "stream",
     "text": [
      " 82%|████████▏ | 494/602 [04:18<00:43,  2.51it/s]"
     ]
    },
    {
     "name": "stdout",
     "output_type": "stream",
     "text": [
      "Error fetching page [[en:Jungle Bird]]: Page [[en:Jungle Bird]] doesn't exist.\n"
     ]
    },
    {
     "name": "stderr",
     "output_type": "stream",
     "text": [
      " 83%|████████▎ | 499/602 [04:21<01:02,  1.64it/s]"
     ]
    },
    {
     "name": "stdout",
     "output_type": "stream",
     "text": [
      "Error fetching page [[en:Old Style Whiskey Smash]]: Page [[en:Old Style Whiskey Smash]] doesn't exist.\n"
     ]
    },
    {
     "name": "stderr",
     "output_type": "stream",
     "text": [
      " 83%|████████▎ | 502/602 [04:24<01:14,  1.34it/s]"
     ]
    },
    {
     "name": "stdout",
     "output_type": "stream",
     "text": [
      "Error fetching page [[en:Whiskey smash]]: Page [[en:Whiskey smash]] doesn't exist.\n"
     ]
    },
    {
     "name": "stderr",
     "output_type": "stream",
     "text": [
      " 85%|████████▌ | 512/602 [04:32<00:50,  1.79it/s]"
     ]
    },
    {
     "name": "stdout",
     "output_type": "stream",
     "text": [
      "Error fetching page [[en:Cooler (cocktail)]]: Page [[en:Cooler (cocktail)]] doesn't exist.\n"
     ]
    },
    {
     "name": "stderr",
     "output_type": "stream",
     "text": [
      " 85%|████████▌ | 513/602 [04:33<00:59,  1.49it/s]"
     ]
    },
    {
     "name": "stdout",
     "output_type": "stream",
     "text": [
      "Error fetching page [[en:Henry's Hard Soda]]: Page [[en:Henry's Hard Soda]] doesn't exist.\n"
     ]
    },
    {
     "name": "stderr",
     "output_type": "stream",
     "text": [
      " 87%|████████▋ | 521/602 [04:36<00:30,  2.67it/s]"
     ]
    },
    {
     "name": "stdout",
     "output_type": "stream",
     "text": [
      "Error fetching page [[en:Redd's Apple Ale]]: Page [[en:Redd's Apple Ale]] doesn't exist.\n"
     ]
    },
    {
     "name": "stderr",
     "output_type": "stream",
     "text": [
      " 87%|████████▋ | 522/602 [04:36<00:28,  2.77it/s]"
     ]
    },
    {
     "name": "stdout",
     "output_type": "stream",
     "text": [
      "Error fetching page [[en:Szarlotka (cocktail)]]: Page [[en:Szarlotka (cocktail)]] doesn't exist.\n"
     ]
    },
    {
     "name": "stderr",
     "output_type": "stream",
     "text": [
      " 88%|████████▊ | 527/602 [04:39<00:31,  2.39it/s]"
     ]
    },
    {
     "name": "stdout",
     "output_type": "stream",
     "text": [
      "Error fetching page [[en:Transfusion (cocktail)]]: Page [[en:Transfusion (cocktail)]] doesn't exist.\n"
     ]
    },
    {
     "name": "stderr",
     "output_type": "stream",
     "text": [
      " 89%|████████▊ | 533/602 [04:42<00:30,  2.24it/s]"
     ]
    },
    {
     "name": "stdout",
     "output_type": "stream",
     "text": [
      "Error fetching page [[en:Henry's Hard Soda]]: Page [[en:Henry's Hard Soda]] doesn't exist.\n"
     ]
    },
    {
     "name": "stderr",
     "output_type": "stream",
     "text": [
      " 89%|████████▉ | 537/602 [04:44<00:28,  2.27it/s]"
     ]
    },
    {
     "name": "stdout",
     "output_type": "stream",
     "text": [
      "Error fetching page [[en:Whiskey highball]]: Page [[en:Whiskey highball]] doesn't exist.\n"
     ]
    },
    {
     "name": "stderr",
     "output_type": "stream",
     "text": [
      " 91%|█████████ | 547/602 [04:48<00:23,  2.30it/s]"
     ]
    },
    {
     "name": "stdout",
     "output_type": "stream",
     "text": [
      "Error fetching page [[en:Henry's Hard Soda]]: Page [[en:Henry's Hard Soda]] doesn't exist.\n"
     ]
    },
    {
     "name": "stderr",
     "output_type": "stream",
     "text": [
      " 92%|█████████▏| 555/602 [04:52<00:19,  2.47it/s]"
     ]
    },
    {
     "name": "stdout",
     "output_type": "stream",
     "text": [
      "Error fetching page [[en:Vodka and Coke]]: Page [[en:Vodka and Coke]] doesn't exist.\n"
     ]
    },
    {
     "name": "stderr",
     "output_type": "stream",
     "text": [
      " 94%|█████████▎| 564/602 [04:57<00:18,  2.03it/s]"
     ]
    },
    {
     "name": "stdout",
     "output_type": "stream",
     "text": [
      "Error fetching page [[en:Vodka cocktail]]: Page [[en:Vodka cocktail]] doesn't exist.\n"
     ]
    },
    {
     "name": "stderr",
     "output_type": "stream",
     "text": [
      " 95%|█████████▍| 571/602 [05:01<00:24,  1.28it/s]"
     ]
    },
    {
     "name": "stdout",
     "output_type": "stream",
     "text": [
      "Error fetching page [[en:White port]]: Page [[en:White port]] doesn't exist.\n"
     ]
    },
    {
     "name": "stderr",
     "output_type": "stream",
     "text": [
      " 95%|█████████▌| 574/602 [05:03<00:14,  1.89it/s]"
     ]
    },
    {
     "name": "stdout",
     "output_type": "stream",
     "text": [
      "Error fetching page [[en:Cucumber cooler]]: Page [[en:Cucumber cooler]] doesn't exist.\n"
     ]
    },
    {
     "name": "stderr",
     "output_type": "stream",
     "text": [
      "100%|██████████| 602/602 [05:19<00:00,  1.88it/s]\n"
     ]
    },
    {
     "data": {
      "text/plain": [
       "{'Martini (cocktail)': 'cocktail',\n",
       " 'Irish Car Bomb': 'pubshot',\n",
       " 'Michelada': 'pint',\n",
       " 'Snakebite (drink)': 'pint',\n",
       " 'Brandy Alexander': 'cocktail',\n",
       " 'Chicago Cocktail': 'old',\n",
       " 'Joe Gilmore#Four Score (1955)': 'cocktail',\n",
       " 'French Connection (cocktail)': 'old',\n",
       " \"Horse's Neck\": 'highball',\n",
       " 'Jack Rose (cocktail)': 'cocktail',\n",
       " 'Paradise (cocktail)': 'cocktail',\n",
       " 'Pisco sour': 'old',\n",
       " 'Porto flip': 'cocktail',\n",
       " 'Sazerac': 'old',\n",
       " 'Sidecar (cocktail)': 'cocktail',\n",
       " 'Singapore Sling': 'hurricane',\n",
       " 'Stinger (cocktail)': 'cocktail',\n",
       " 'Caipirinha': 'old',\n",
       " 'Alexander (cocktail)': 'cocktail',\n",
       " 'Angel Face (cocktail)': 'cocktail',\n",
       " 'Bijou (cocktail)': 'cocktail',\n",
       " 'Blackthorn (cocktail)': 'cocktail',\n",
       " 'Bramble (cocktail)': 'old',\n",
       " 'Bronx (cocktail)': 'cocktail',\n",
       " 'Cloister (cocktail)': '[[Cocktail glass]]',\n",
       " 'Clover Club Cocktail': 'cocktail',\n",
       " 'Corpse Reviver': 'cocktail',\n",
       " 'French 75 (cocktail)': 'flute',\n",
       " 'Gibson (cocktail)': 'cocktail',\n",
       " 'Gimlet (cocktail)': 'cocktail',\n",
       " 'Gin and tonic': '[[Highball glass]] or [[rocks glass]]',\n",
       " 'Hanky-Panky cocktail': 'cocktail',\n",
       " 'John Collins (cocktail)': 'collins',\n",
       " 'Monkey Gland': 'cocktail',\n",
       " 'Negroni': 'old',\n",
       " 'Old Etonian (cocktail)': 'cocktail',\n",
       " 'Queens (cocktail)': 'cocktail',\n",
       " 'Salty dog (cocktail)': 'highball',\n",
       " 'Suffering Bastard': 'Collins',\n",
       " 'Tom Collins': 'collins',\n",
       " 'Vesper (cocktail)': 'cocktail',\n",
       " 'White Lady (cocktail)': 'cocktail',\n",
       " 'Bacardi cocktail': 'cocktail',\n",
       " 'Between the Sheets (cocktail)': 'cocktail',\n",
       " 'Brass Monkey (cocktail)': 'highball',\n",
       " 'Bumbo': 'old',\n",
       " 'Bushwacker (cocktail)': '[[Hurricane glass|Hurricane Glass]]',\n",
       " \"Cobra's Fang\": 'Tall clear glass',\n",
       " 'Cojito': 'cocktail',\n",
       " 'Cuban Sunset': '[[Highball glass]]',\n",
       " 'Daiquiri': 'cocktail',\n",
       " 'El Presidente (cocktail)': 'cocktail',\n",
       " 'Flaming Doctor Pepper': 'pubshot',\n",
       " 'Flaming volcano': 'Special: [[volcano bowl]]',\n",
       " 'Hurricane (cocktail)': '[[hurricane lamp]]–shaped glass',\n",
       " 'Macuá': 'highball',\n",
       " 'Mai Tai': 'old',\n",
       " 'Mojito': 'collins',\n",
       " 'Mr. Bali Hai': 'Special: Mr. Bali Hai mug',\n",
       " 'Piña colada': 'poco',\n",
       " 'Rum Swizzle': 'Cocktail Glass',\n",
       " 'Yellow Bird (cocktail)': 'cocktail',\n",
       " 'Sake bomb': 'pintshot',\n",
       " 'Chimayó Cocktail': 'highball',\n",
       " 'Margarita': 'margarita',\n",
       " 'Matador (cocktail)': 'cocktail',\n",
       " 'Paloma (cocktail)': 'highball',\n",
       " 'Tequila Slammer': 'rocks',\n",
       " 'Vampiro (cocktail)': 'old',\n",
       " 'Agent Orange (cocktail)': 'old',\n",
       " 'Appletini': 'cocktail',\n",
       " 'Cocktails with cachaça#Batida (Shaken)': 'old',\n",
       " 'Black Russian': 'old',\n",
       " 'Bloody Mary (cocktail)': 'highball',\n",
       " 'Blue Lagoon (cocktail)': 'highball',\n",
       " 'Caesar (cocktail)': 'highball',\n",
       " 'Cape Codder (cocktail)': 'highball',\n",
       " 'Colombia (cocktail)': 'highball',\n",
       " 'Cosmopolitan (cocktail)': 'cocktail',\n",
       " 'Fizzy apple cocktail': 'cocktail',\n",
       " 'Harvey Wallbanger': 'highball',\n",
       " 'Kamikaze (cocktail)': 'cocktail',\n",
       " 'Lemon drop (cocktail)': 'cocktail',\n",
       " 'Platinum Blonde (cocktail)': '[[Cocktail glass]]',\n",
       " 'Screwdriver (cocktail)': 'highball',\n",
       " 'Sea Breeze (cocktail)': 'highball',\n",
       " 'Amber Moon': 'highball',\n",
       " 'Black Nail': 'rocks',\n",
       " 'Boulevardier (cocktail)': 'old',\n",
       " 'Brooklyn (cocktail)': 'cocktail',\n",
       " 'Farnell (cocktail)': 'collins',\n",
       " 'Irish coffee': 'coffee',\n",
       " 'Horsefeather (cocktail)': 'highball',\n",
       " 'Jack and Coke': 'collins',\n",
       " 'Lynchburg Lemonade': 'collins',\n",
       " 'Manhattan (cocktail)': 'cocktail',\n",
       " 'Old fashioned (cocktail)': 'old',\n",
       " 'Rusty Nail (cocktail)': 'old',\n",
       " '7 and 7': 'collins',\n",
       " 'Toronto (cocktail)': 'cocktail',\n",
       " 'Whiskey sour': 'old',\n",
       " 'Adonis (cocktail)': 'cocktail',\n",
       " 'Up to Date (cocktail)': '[[Coupe glass|Coupe]] or [[cocktail glass]]',\n",
       " 'Bellini (cocktail)': 'flute',\n",
       " 'Hugo (cocktail)': 'winew',\n",
       " 'Kir Royal': 'flute',\n",
       " 'Mimosa (cocktail)': 'flute',\n",
       " 'Kalimotxo': 'highball',\n",
       " 'Zurracapote': 'goblet',\n",
       " 'Kir (cocktail)': 'winew',\n",
       " 'Herbsaint': 'highball',\n",
       " 'Herbsaint#Cocktails': 'highball',\n",
       " 'B-52 (cocktail)': 'shot',\n",
       " 'Baby Guinness': '[[Shot glass|shot]]',\n",
       " 'Orgasm (cocktail)': 'old',\n",
       " 'Quick Fuck': 'shot',\n",
       " 'Springbokkie': 'shot',\n",
       " 'Grasshopper (cocktail)': 'cocktail',\n",
       " 'Golden dream (cocktail)': 'cocktail',\n",
       " 'Skittle Bomb': 'pubshot',\n",
       " 'Japanese slipper': 'cocktail',\n",
       " 'Alabama Slammer': 'collins',\n",
       " 'Godfather (cocktail)': 'old',\n",
       " 'Backdraft (drink)': 'shot',\n",
       " 'Carrot Cake (cocktail)': 'shot',\n",
       " 'Jägerbomb': 'pubshot',\n",
       " 'pisco sour': 'old',\n",
       " 'Americano (cocktail)': 'old',\n",
       " 'Cocktails with cachaça#Leite de Onça (Jaguar Milk)': 'old',\n",
       " 'Cocktails with cachaça#Quentão (Hot Stuff)': 'old',\n",
       " 'Pisco sour#Different variations': 'old',\n",
       " 'Redheaded slut': 'rocks2',\n",
       " 'Karsk': 'cup',\n",
       " 'Punch (drink)': 'Often served in a [[punch bowl]] with [[mug|punch glasses]].',\n",
       " 'Rickey (cocktail)': 'highball',\n",
       " 'piña colada': 'poco',\n",
       " \"Dark 'n' Stormy\": 'highball',\n",
       " 'Moscow mule': 'copper mug',\n",
       " 'Desert Healer': 'highball',\n",
       " 'Black Russian#Variations': 'old',\n",
       " 'gin and tonic': '[[Highball glass]] or [[rocks glass]]',\n",
       " 'Vodka tonic': 'highball'}"
      ]
     },
     "execution_count": 6,
     "metadata": {},
     "output_type": "execute_result"
    }
   ],
   "source": [
    "# cocktail -> drink ware\n",
    "cocktail_drinkware = {}\n",
    "for c in tqdm.tqdm(cocktails):\n",
    "    d = get_drinkware(c)\n",
    "    if d:\n",
    "        cocktail_drinkware[str(c)]=d\n",
    "\n",
    "cocktail_drinkware"
   ]
  },
  {
   "cell_type": "code",
   "execution_count": 7,
   "id": "88f00950-d724-4c56-a29e-db764b5439ad",
   "metadata": {},
   "outputs": [
    {
     "data": {
      "text/plain": [
       "{'Martini (cocktail)': 'cocktail',\n",
       " 'Irish Car Bomb': 'pubshot',\n",
       " 'Michelada': 'pint',\n",
       " 'Snakebite (drink)': 'pint',\n",
       " 'Brandy Alexander': 'cocktail',\n",
       " 'Chicago Cocktail': 'old',\n",
       " 'Joe Gilmore#Four Score (1955)': 'cocktail',\n",
       " 'French Connection (cocktail)': 'old',\n",
       " \"Horse's Neck\": 'highball',\n",
       " 'Jack Rose (cocktail)': 'cocktail',\n",
       " 'Paradise (cocktail)': 'cocktail',\n",
       " 'Pisco sour': 'old',\n",
       " 'Porto flip': 'cocktail',\n",
       " 'Sazerac': 'old',\n",
       " 'Sidecar (cocktail)': 'cocktail',\n",
       " 'Singapore Sling': 'hurricane',\n",
       " 'Stinger (cocktail)': 'cocktail',\n",
       " 'Caipirinha': 'old',\n",
       " 'Alexander (cocktail)': 'cocktail',\n",
       " 'Angel Face (cocktail)': 'cocktail',\n",
       " 'Bijou (cocktail)': 'cocktail',\n",
       " 'Blackthorn (cocktail)': 'cocktail',\n",
       " 'Bramble (cocktail)': 'old',\n",
       " 'Bronx (cocktail)': 'cocktail',\n",
       " 'Cloister (cocktail)': 'cocktail',\n",
       " 'Clover Club Cocktail': 'cocktail',\n",
       " 'Corpse Reviver': 'cocktail',\n",
       " 'French 75 (cocktail)': 'flute',\n",
       " 'Gibson (cocktail)': 'cocktail',\n",
       " 'Gimlet (cocktail)': 'cocktail',\n",
       " 'Gin and tonic': 'highball',\n",
       " 'Hanky-Panky cocktail': 'cocktail',\n",
       " 'John Collins (cocktail)': 'collins',\n",
       " 'Monkey Gland': 'cocktail',\n",
       " 'Negroni': 'old',\n",
       " 'Old Etonian (cocktail)': 'cocktail',\n",
       " 'Queens (cocktail)': 'cocktail',\n",
       " 'Salty dog (cocktail)': 'highball',\n",
       " 'Suffering Bastard': 'collins',\n",
       " 'Tom Collins': 'collins',\n",
       " 'Vesper (cocktail)': 'cocktail',\n",
       " 'White Lady (cocktail)': 'cocktail',\n",
       " 'Bacardi cocktail': 'cocktail',\n",
       " 'Between the Sheets (cocktail)': 'cocktail',\n",
       " 'Brass Monkey (cocktail)': 'highball',\n",
       " 'Bumbo': 'old',\n",
       " 'Bushwacker (cocktail)': 'hurricane',\n",
       " \"Cobra's Fang\": 'Tall clear glass',\n",
       " 'Cojito': 'cocktail',\n",
       " 'Cuban Sunset': 'highball',\n",
       " 'Daiquiri': 'cocktail',\n",
       " 'El Presidente (cocktail)': 'cocktail',\n",
       " 'Flaming Doctor Pepper': 'pubshot',\n",
       " 'Flaming volcano': 'volcano bowl',\n",
       " 'Hurricane (cocktail)': 'hurricane lamp–shaped',\n",
       " 'Macuá': 'highball',\n",
       " 'Mai Tai': 'old',\n",
       " 'Mojito': 'collins',\n",
       " 'Mr. Bali Hai': 'Special: Mr. Bali Hai mug',\n",
       " 'Piña colada': 'poco',\n",
       " 'Rum Swizzle': 'cocktail',\n",
       " 'Yellow Bird (cocktail)': 'cocktail',\n",
       " 'Sake bomb': 'pintshot',\n",
       " 'Chimayó Cocktail': 'highball',\n",
       " 'Margarita': 'margarita',\n",
       " 'Matador (cocktail)': 'cocktail',\n",
       " 'Paloma (cocktail)': 'highball',\n",
       " 'Tequila Slammer': 'rocks',\n",
       " 'Vampiro (cocktail)': 'old',\n",
       " 'Agent Orange (cocktail)': 'old',\n",
       " 'Appletini': 'cocktail',\n",
       " 'Cocktails with cachaça#Batida (Shaken)': 'old',\n",
       " 'Black Russian': 'old',\n",
       " 'Bloody Mary (cocktail)': 'highball',\n",
       " 'Blue Lagoon (cocktail)': 'highball',\n",
       " 'Caesar (cocktail)': 'highball',\n",
       " 'Cape Codder (cocktail)': 'highball',\n",
       " 'Colombia (cocktail)': 'highball',\n",
       " 'Cosmopolitan (cocktail)': 'cocktail',\n",
       " 'Fizzy apple cocktail': 'cocktail',\n",
       " 'Harvey Wallbanger': 'highball',\n",
       " 'Kamikaze (cocktail)': 'cocktail',\n",
       " 'Lemon drop (cocktail)': 'cocktail',\n",
       " 'Platinum Blonde (cocktail)': 'cocktail',\n",
       " 'Screwdriver (cocktail)': 'highball',\n",
       " 'Sea Breeze (cocktail)': 'highball',\n",
       " 'Amber Moon': 'highball',\n",
       " 'Black Nail': 'rocks',\n",
       " 'Boulevardier (cocktail)': 'old',\n",
       " 'Brooklyn (cocktail)': 'cocktail',\n",
       " 'Farnell (cocktail)': 'collins',\n",
       " 'Irish coffee': 'coffee',\n",
       " 'Horsefeather (cocktail)': 'highball',\n",
       " 'Jack and Coke': 'collins',\n",
       " 'Lynchburg Lemonade': 'collins',\n",
       " 'Manhattan (cocktail)': 'cocktail',\n",
       " 'Old fashioned (cocktail)': 'old',\n",
       " 'Rusty Nail (cocktail)': 'old',\n",
       " '7 and 7': 'collins',\n",
       " 'Toronto (cocktail)': 'cocktail',\n",
       " 'Whiskey sour': 'old',\n",
       " 'Adonis (cocktail)': 'cocktail',\n",
       " 'Up to Date (cocktail)': 'glass',\n",
       " 'Bellini (cocktail)': 'flute',\n",
       " 'Hugo (cocktail)': 'winew',\n",
       " 'Kir Royal': 'flute',\n",
       " 'Mimosa (cocktail)': 'flute',\n",
       " 'Kalimotxo': 'highball',\n",
       " 'Zurracapote': 'goblet',\n",
       " 'Kir (cocktail)': 'winew',\n",
       " 'Herbsaint': 'highball',\n",
       " 'Herbsaint#Cocktails': 'highball',\n",
       " 'B-52 (cocktail)': 'shot',\n",
       " 'Baby Guinness': 'shot',\n",
       " 'Orgasm (cocktail)': 'old',\n",
       " 'Quick Fuck': 'shot',\n",
       " 'Springbokkie': 'shot',\n",
       " 'Grasshopper (cocktail)': 'cocktail',\n",
       " 'Golden dream (cocktail)': 'cocktail',\n",
       " 'Skittle Bomb': 'pubshot',\n",
       " 'Japanese slipper': 'cocktail',\n",
       " 'Alabama Slammer': 'collins',\n",
       " 'Godfather (cocktail)': 'old',\n",
       " 'Backdraft (drink)': 'shot',\n",
       " 'Carrot Cake (cocktail)': 'shot',\n",
       " 'Jägerbomb': 'pubshot',\n",
       " 'pisco sour': 'old',\n",
       " 'Americano (cocktail)': 'old',\n",
       " 'Cocktails with cachaça#Leite de Onça (Jaguar Milk)': 'old',\n",
       " 'Cocktails with cachaça#Quentão (Hot Stuff)': 'old',\n",
       " 'Pisco sour#Different variations': 'old',\n",
       " 'Redheaded slut': 'rocks2',\n",
       " 'Karsk': 'cup',\n",
       " 'Punch (drink)': 'punch',\n",
       " 'Rickey (cocktail)': 'highball',\n",
       " 'piña colada': 'poco',\n",
       " \"Dark 'n' Stormy\": 'highball',\n",
       " 'Moscow mule': 'copper mug',\n",
       " 'Desert Healer': 'highball',\n",
       " 'Black Russian#Variations': 'old',\n",
       " 'gin and tonic': 'highball',\n",
       " 'Vodka tonic': 'highball'}"
      ]
     },
     "execution_count": 7,
     "metadata": {},
     "output_type": "execute_result"
    }
   ],
   "source": [
    "# perform cleanup on certain values\n",
    "#'Cloister (cocktail)': '[[Cocktail glass]]'\n",
    "cocktail_drinkware['Cloister (cocktail)'] = 'cock'\n",
    "#'Gin and tonic': '[[Highball glass]] or [[rocks glass]]'\n",
    "cocktail_drinkware['Gin and tonic'] = 'highball'\n",
    "#'Bushwacker (cocktail)': '[[Hurricane glass|Hurricane Glass]]'\n",
    "cocktail_drinkware['Bushwacker (cocktail)'] = 'hurricane'\n",
    "# 'Cuban Sunset': '[[Highball glass]]'\n",
    "cocktail_drinkware['Cuban Sunset'] = 'highball'\n",
    "#'Cuban Sunset': '[[Highball glass]]'\n",
    "cocktail_drinkware['Cuban Sunset'] = 'highball'\n",
    "# 'Flaming volcano': 'Special: [[volcano bowl]]',\n",
    "cocktail_drinkware['Flaming volcano'] = 'volcano bowl'\n",
    "# 'Hurricane (cocktail)': '[[hurricane lamp]]–shaped glass',\n",
    "cocktail_drinkware['Hurricane (cocktail)'] = 'hurricane lamp–shaped'\n",
    "#'Platinum Blonde (cocktail)': '[[Cocktail glass]]'\n",
    "cocktail_drinkware['Platinum Blonde (cocktail)'] = 'cocktail'\n",
    "# 'Up to Date (cocktail)': '[[Coupe glass|Coupe]] or [[cocktail glass]]',\n",
    "cocktail_drinkware['Up to Date (cocktail)'] = 'glass'\n",
    "# 'Baby Guinness': '[[Shot glass|shot]]',\n",
    "cocktail_drinkware['Baby Guinness'] = 'shot' \n",
    "# 'Punch (drink)': 'Often served in a [[punch bowl]] with [[mug|punch glasses]].',\n",
    "cocktail_drinkware['Punch (drink)'] =  'punch'\n",
    "# 'gin and tonic': '[[Highball glass]] or [[rocks glass]]'\n",
    "cocktail_drinkware['gin and tonic'] = 'highball' \n",
    "# 'Rum Swizzle': 'Cocktail Glass',\n",
    "cocktail_drinkware['Rum Swizzle'] = 'cocktail'\n",
    "# 'Cloister (cocktail)': 'cock',\n",
    "cocktail_drinkware['Cloister (cocktail)'] = 'cocktail'\n",
    "# 'Suffering Bastard': 'Collins'\n",
    "cocktail_drinkware['Suffering Bastard'] = 'collins'\n",
    "cocktail_drinkware "
   ]
  },
  {
   "cell_type": "code",
   "execution_count": 8,
   "id": "dd40a184-200c-45bf-bb40-39192a02b4e6",
   "metadata": {},
   "outputs": [],
   "source": [
    "import pandas as pd"
   ]
  },
  {
   "cell_type": "code",
   "execution_count": 9,
   "id": "8bdf65ea-1d59-4d5b-845b-8bd59df7df5e",
   "metadata": {},
   "outputs": [
    {
     "data": {
      "text/html": [
       "<div>\n",
       "<style scoped>\n",
       "    .dataframe tbody tr th:only-of-type {\n",
       "        vertical-align: middle;\n",
       "    }\n",
       "\n",
       "    .dataframe tbody tr th {\n",
       "        vertical-align: top;\n",
       "    }\n",
       "\n",
       "    .dataframe thead th {\n",
       "        text-align: right;\n",
       "    }\n",
       "</style>\n",
       "<table border=\"1\" class=\"dataframe\">\n",
       "  <thead>\n",
       "    <tr style=\"text-align: right;\">\n",
       "      <th></th>\n",
       "      <th>cocktail</th>\n",
       "    </tr>\n",
       "    <tr>\n",
       "      <th>glass</th>\n",
       "      <th></th>\n",
       "    </tr>\n",
       "  </thead>\n",
       "  <tbody>\n",
       "    <tr>\n",
       "      <th>cocktail</th>\n",
       "      <td>45</td>\n",
       "    </tr>\n",
       "    <tr>\n",
       "      <th>highball</th>\n",
       "      <td>26</td>\n",
       "    </tr>\n",
       "    <tr>\n",
       "      <th>old</th>\n",
       "      <td>25</td>\n",
       "    </tr>\n",
       "    <tr>\n",
       "      <th>collins</th>\n",
       "      <td>9</td>\n",
       "    </tr>\n",
       "    <tr>\n",
       "      <th>shot</th>\n",
       "      <td>6</td>\n",
       "    </tr>\n",
       "    <tr>\n",
       "      <th>flute</th>\n",
       "      <td>4</td>\n",
       "    </tr>\n",
       "    <tr>\n",
       "      <th>pubshot</th>\n",
       "      <td>4</td>\n",
       "    </tr>\n",
       "    <tr>\n",
       "      <th>winew</th>\n",
       "      <td>2</td>\n",
       "    </tr>\n",
       "    <tr>\n",
       "      <th>rocks</th>\n",
       "      <td>2</td>\n",
       "    </tr>\n",
       "    <tr>\n",
       "      <th>hurricane</th>\n",
       "      <td>2</td>\n",
       "    </tr>\n",
       "    <tr>\n",
       "      <th>poco</th>\n",
       "      <td>2</td>\n",
       "    </tr>\n",
       "    <tr>\n",
       "      <th>pint</th>\n",
       "      <td>2</td>\n",
       "    </tr>\n",
       "    <tr>\n",
       "      <th>pintshot</th>\n",
       "      <td>1</td>\n",
       "    </tr>\n",
       "    <tr>\n",
       "      <th>volcano bowl</th>\n",
       "      <td>1</td>\n",
       "    </tr>\n",
       "    <tr>\n",
       "      <th>rocks2</th>\n",
       "      <td>1</td>\n",
       "    </tr>\n",
       "    <tr>\n",
       "      <th>punch</th>\n",
       "      <td>1</td>\n",
       "    </tr>\n",
       "    <tr>\n",
       "      <th>Special: Mr. Bali Hai mug</th>\n",
       "      <td>1</td>\n",
       "    </tr>\n",
       "    <tr>\n",
       "      <th>margarita</th>\n",
       "      <td>1</td>\n",
       "    </tr>\n",
       "    <tr>\n",
       "      <th>Tall clear glass</th>\n",
       "      <td>1</td>\n",
       "    </tr>\n",
       "    <tr>\n",
       "      <th>goblet</th>\n",
       "      <td>1</td>\n",
       "    </tr>\n",
       "    <tr>\n",
       "      <th>glass</th>\n",
       "      <td>1</td>\n",
       "    </tr>\n",
       "    <tr>\n",
       "      <th>cup</th>\n",
       "      <td>1</td>\n",
       "    </tr>\n",
       "    <tr>\n",
       "      <th>copper mug</th>\n",
       "      <td>1</td>\n",
       "    </tr>\n",
       "    <tr>\n",
       "      <th>coffee</th>\n",
       "      <td>1</td>\n",
       "    </tr>\n",
       "    <tr>\n",
       "      <th>hurricane lamp–shaped</th>\n",
       "      <td>1</td>\n",
       "    </tr>\n",
       "  </tbody>\n",
       "</table>\n",
       "</div>"
      ],
      "text/plain": [
       "                           cocktail\n",
       "glass                              \n",
       "cocktail                         45\n",
       "highball                         26\n",
       "old                              25\n",
       "collins                           9\n",
       "shot                              6\n",
       "flute                             4\n",
       "pubshot                           4\n",
       "winew                             2\n",
       "rocks                             2\n",
       "hurricane                         2\n",
       "poco                              2\n",
       "pint                              2\n",
       "pintshot                          1\n",
       "volcano bowl                      1\n",
       "rocks2                            1\n",
       "punch                             1\n",
       "Special: Mr. Bali Hai mug         1\n",
       "margarita                         1\n",
       "Tall clear glass                  1\n",
       "goblet                            1\n",
       "glass                             1\n",
       "cup                               1\n",
       "copper mug                        1\n",
       "coffee                            1\n",
       "hurricane lamp–shaped             1"
      ]
     },
     "execution_count": 9,
     "metadata": {},
     "output_type": "execute_result"
    }
   ],
   "source": [
    "df = pd.DataFrame.from_dict({\"cocktail\": cocktail_drinkware.keys(), \"glass\": cocktail_drinkware.values()})\n",
    "df.groupby(by=\"glass\").count().sort_values(by=\"cocktail\", ascending=False)"
   ]
  },
  {
   "cell_type": "code",
   "execution_count": 18,
   "id": "41d3f578-aace-4ee2-a8c4-369d72175c2c",
   "metadata": {},
   "outputs": [
    {
     "data": {
      "text/plain": [
       "{'name': 'glass',\n",
       " 'children': [{'name': 'cocktail',\n",
       "   'children': [{'name': 'Martini (cocktail)'},\n",
       "    {'name': 'Brandy Alexander'},\n",
       "    {'name': 'Joe Gilmore#Four Score (1955)'},\n",
       "    {'name': 'Jack Rose (cocktail)'},\n",
       "    {'name': 'Paradise (cocktail)'},\n",
       "    {'name': 'Porto flip'},\n",
       "    {'name': 'Sidecar (cocktail)'},\n",
       "    {'name': 'Stinger (cocktail)'},\n",
       "    {'name': 'Alexander (cocktail)'},\n",
       "    {'name': 'Angel Face (cocktail)'},\n",
       "    {'name': 'Bijou (cocktail)'},\n",
       "    {'name': 'Blackthorn (cocktail)'},\n",
       "    {'name': 'Bronx (cocktail)'},\n",
       "    {'name': 'Cloister (cocktail)'},\n",
       "    {'name': 'Clover Club Cocktail'},\n",
       "    {'name': 'Corpse Reviver'},\n",
       "    {'name': 'Gibson (cocktail)'},\n",
       "    {'name': 'Gimlet (cocktail)'},\n",
       "    {'name': 'Hanky-Panky cocktail'},\n",
       "    {'name': 'Monkey Gland'},\n",
       "    {'name': 'Old Etonian (cocktail)'},\n",
       "    {'name': 'Queens (cocktail)'},\n",
       "    {'name': 'Vesper (cocktail)'},\n",
       "    {'name': 'White Lady (cocktail)'},\n",
       "    {'name': 'Bacardi cocktail'},\n",
       "    {'name': 'Between the Sheets (cocktail)'},\n",
       "    {'name': 'Cojito'},\n",
       "    {'name': 'Daiquiri'},\n",
       "    {'name': 'El Presidente (cocktail)'},\n",
       "    {'name': 'Rum Swizzle'},\n",
       "    {'name': 'Yellow Bird (cocktail)'},\n",
       "    {'name': 'Matador (cocktail)'},\n",
       "    {'name': 'Appletini'},\n",
       "    {'name': 'Cosmopolitan (cocktail)'},\n",
       "    {'name': 'Fizzy apple cocktail'},\n",
       "    {'name': 'Kamikaze (cocktail)'},\n",
       "    {'name': 'Lemon drop (cocktail)'},\n",
       "    {'name': 'Platinum Blonde (cocktail)'},\n",
       "    {'name': 'Brooklyn (cocktail)'},\n",
       "    {'name': 'Manhattan (cocktail)'},\n",
       "    {'name': 'Toronto (cocktail)'},\n",
       "    {'name': 'Adonis (cocktail)'},\n",
       "    {'name': 'Grasshopper (cocktail)'},\n",
       "    {'name': 'Golden dream (cocktail)'},\n",
       "    {'name': 'Japanese slipper'}]},\n",
       "  {'name': 'pubshot',\n",
       "   'children': [{'name': 'Irish Car Bomb'},\n",
       "    {'name': 'Flaming Doctor Pepper'},\n",
       "    {'name': 'Skittle Bomb'},\n",
       "    {'name': 'Jägerbomb'}]},\n",
       "  {'name': 'pint',\n",
       "   'children': [{'name': 'Michelada'}, {'name': 'Snakebite (drink)'}]},\n",
       "  {'name': 'old',\n",
       "   'children': [{'name': 'Chicago Cocktail'},\n",
       "    {'name': 'French Connection (cocktail)'},\n",
       "    {'name': 'Pisco sour'},\n",
       "    {'name': 'Sazerac'},\n",
       "    {'name': 'Caipirinha'},\n",
       "    {'name': 'Bramble (cocktail)'},\n",
       "    {'name': 'Negroni'},\n",
       "    {'name': 'Bumbo'},\n",
       "    {'name': 'Mai Tai'},\n",
       "    {'name': 'Vampiro (cocktail)'},\n",
       "    {'name': 'Agent Orange (cocktail)'},\n",
       "    {'name': 'Cocktails with cachaça#Batida (Shaken)'},\n",
       "    {'name': 'Black Russian'},\n",
       "    {'name': 'Boulevardier (cocktail)'},\n",
       "    {'name': 'Old fashioned (cocktail)'},\n",
       "    {'name': 'Rusty Nail (cocktail)'},\n",
       "    {'name': 'Whiskey sour'},\n",
       "    {'name': 'Orgasm (cocktail)'},\n",
       "    {'name': 'Godfather (cocktail)'},\n",
       "    {'name': 'pisco sour'},\n",
       "    {'name': 'Americano (cocktail)'},\n",
       "    {'name': 'Cocktails with cachaça#Leite de Onça (Jaguar Milk)'},\n",
       "    {'name': 'Cocktails with cachaça#Quentão (Hot Stuff)'},\n",
       "    {'name': 'Pisco sour#Different variations'},\n",
       "    {'name': 'Black Russian#Variations'}]},\n",
       "  {'name': 'highball',\n",
       "   'children': [{'name': \"Horse's Neck\"},\n",
       "    {'name': 'Gin and tonic'},\n",
       "    {'name': 'Salty dog (cocktail)'},\n",
       "    {'name': 'Brass Monkey (cocktail)'},\n",
       "    {'name': 'Cuban Sunset'},\n",
       "    {'name': 'Macuá'},\n",
       "    {'name': 'Chimayó Cocktail'},\n",
       "    {'name': 'Paloma (cocktail)'},\n",
       "    {'name': 'Bloody Mary (cocktail)'},\n",
       "    {'name': 'Blue Lagoon (cocktail)'},\n",
       "    {'name': 'Caesar (cocktail)'},\n",
       "    {'name': 'Cape Codder (cocktail)'},\n",
       "    {'name': 'Colombia (cocktail)'},\n",
       "    {'name': 'Harvey Wallbanger'},\n",
       "    {'name': 'Screwdriver (cocktail)'},\n",
       "    {'name': 'Sea Breeze (cocktail)'},\n",
       "    {'name': 'Amber Moon'},\n",
       "    {'name': 'Horsefeather (cocktail)'},\n",
       "    {'name': 'Kalimotxo'},\n",
       "    {'name': 'Herbsaint'},\n",
       "    {'name': 'Herbsaint#Cocktails'},\n",
       "    {'name': 'Rickey (cocktail)'},\n",
       "    {'name': \"Dark 'n' Stormy\"},\n",
       "    {'name': 'Desert Healer'},\n",
       "    {'name': 'gin and tonic'},\n",
       "    {'name': 'Vodka tonic'}]},\n",
       "  {'name': 'hurricane',\n",
       "   'children': [{'name': 'Singapore Sling'},\n",
       "    {'name': 'Bushwacker (cocktail)'}]},\n",
       "  {'name': 'flute',\n",
       "   'children': [{'name': 'French 75 (cocktail)'},\n",
       "    {'name': 'Bellini (cocktail)'},\n",
       "    {'name': 'Kir Royal'},\n",
       "    {'name': 'Mimosa (cocktail)'}]},\n",
       "  {'name': 'collins',\n",
       "   'children': [{'name': 'John Collins (cocktail)'},\n",
       "    {'name': 'Suffering Bastard'},\n",
       "    {'name': 'Tom Collins'},\n",
       "    {'name': 'Mojito'},\n",
       "    {'name': 'Farnell (cocktail)'},\n",
       "    {'name': 'Jack and Coke'},\n",
       "    {'name': 'Lynchburg Lemonade'},\n",
       "    {'name': '7 and 7'},\n",
       "    {'name': 'Alabama Slammer'}]},\n",
       "  {'name': 'Tall clear glass', 'children': [{'name': \"Cobra's Fang\"}]},\n",
       "  {'name': 'volcano bowl', 'children': [{'name': 'Flaming volcano'}]},\n",
       "  {'name': 'hurricane lamp–shaped',\n",
       "   'children': [{'name': 'Hurricane (cocktail)'}]},\n",
       "  {'name': 'Special: Mr. Bali Hai mug',\n",
       "   'children': [{'name': 'Mr. Bali Hai'}]},\n",
       "  {'name': 'poco',\n",
       "   'children': [{'name': 'Piña colada'}, {'name': 'piña colada'}]},\n",
       "  {'name': 'pintshot', 'children': [{'name': 'Sake bomb'}]},\n",
       "  {'name': 'margarita', 'children': [{'name': 'Margarita'}]},\n",
       "  {'name': 'rocks',\n",
       "   'children': [{'name': 'Tequila Slammer'}, {'name': 'Black Nail'}]},\n",
       "  {'name': 'coffee', 'children': [{'name': 'Irish coffee'}]},\n",
       "  {'name': 'glass', 'children': [{'name': 'Up to Date (cocktail)'}]},\n",
       "  {'name': 'winew',\n",
       "   'children': [{'name': 'Hugo (cocktail)'}, {'name': 'Kir (cocktail)'}]},\n",
       "  {'name': 'goblet', 'children': [{'name': 'Zurracapote'}]},\n",
       "  {'name': 'shot',\n",
       "   'children': [{'name': 'B-52 (cocktail)'},\n",
       "    {'name': 'Baby Guinness'},\n",
       "    {'name': 'Quick Fuck'},\n",
       "    {'name': 'Springbokkie'},\n",
       "    {'name': 'Backdraft (drink)'},\n",
       "    {'name': 'Carrot Cake (cocktail)'}]},\n",
       "  {'name': 'rocks2', 'children': [{'name': 'Redheaded slut'}]},\n",
       "  {'name': 'cup', 'children': [{'name': 'Karsk'}]},\n",
       "  {'name': 'punch', 'children': [{'name': 'Punch (drink)'}]},\n",
       "  {'name': 'copper mug', 'children': [{'name': 'Moscow mule'}]}]}"
      ]
     },
     "execution_count": 18,
     "metadata": {},
     "output_type": "execute_result"
    }
   ],
   "source": [
    "# generate glasses => cocktails\n",
    "glass_cocktails = {}\n",
    "for k,v in cocktail_drinkware.items():\n",
    "    c = glass_cocktails.get(v, [])\n",
    "    c.append(k)\n",
    "    glass_cocktails[v] = c\n",
    "    \n",
    "# Generate data for d3.\n",
    "glass_cocktail_d3 = {}\n",
    "glass_cocktail_d3[\"name\"]= \"glass\"\n",
    "\n",
    "# Add glasses and cocktails\n",
    "glass_cocktail_d3[\"children\"] = []\n",
    "for g,cs in glass_cocktails.items():\n",
    "    gc =  {}\n",
    "    gc['name'] = g\n",
    "    gc['children'] = []\n",
    "    for c in cs:\n",
    "        gc['children'].append({'name': c})\n",
    "    glass_cocktail_d3['children'].append(gc)\n",
    "    \n",
    "glass_cocktail_d3\n"
   ]
  },
  {
   "cell_type": "code",
   "execution_count": 19,
   "id": "cd8b4893-95d3-4990-a663-a9a2e158d39d",
   "metadata": {},
   "outputs": [],
   "source": [
    "# export as json\n",
    "import json\n",
    "with open(\"glass_cocktails_flare.json\", \"w\") as f:\n",
    "    json.dump(glass_cocktail_d3, f)"
   ]
  },
  {
   "cell_type": "code",
   "execution_count": null,
   "id": "d4f6cf9a-8ce6-483f-bba7-899a333d2911",
   "metadata": {},
   "outputs": [],
   "source": []
  }
 ],
 "metadata": {
  "kernelspec": {
   "display_name": "Python 3",
   "language": "python",
   "name": "python3"
  },
  "language_info": {
   "codemirror_mode": {
    "name": "ipython",
    "version": 3
   },
   "file_extension": ".py",
   "mimetype": "text/x-python",
   "name": "python",
   "nbconvert_exporter": "python",
   "pygments_lexer": "ipython3",
   "version": "3.9.5"
  }
 },
 "nbformat": 4,
 "nbformat_minor": 5
}
